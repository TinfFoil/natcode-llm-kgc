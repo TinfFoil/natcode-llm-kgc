{
 "cells": [
  {
   "cell_type": "code",
   "execution_count": null,
   "metadata": {},
   "outputs": [
    {
     "data": {
      "text/html": [
       "<div>\n",
       "<style scoped>\n",
       "    .dataframe tbody tr th:only-of-type {\n",
       "        vertical-align: middle;\n",
       "    }\n",
       "\n",
       "    .dataframe tbody tr th {\n",
       "        vertical-align: top;\n",
       "    }\n",
       "\n",
       "    .dataframe thead th {\n",
       "        text-align: right;\n",
       "    }\n",
       "</style>\n",
       "<table border=\"1\" class=\"dataframe\">\n",
       "  <thead>\n",
       "    <tr style=\"text-align: right;\">\n",
       "      <th></th>\n",
       "      <th>text</th>\n",
       "      <th>triple_list</th>\n",
       "      <th>num_ents</th>\n",
       "    </tr>\n",
       "  </thead>\n",
       "  <tbody>\n",
       "    <tr>\n",
       "      <th>240</th>\n",
       "      <td>This paper investigates the utility of applyin...</td>\n",
       "      <td>[[MT evaluation methods, Used_for, classifiers...</td>\n",
       "      <td>11</td>\n",
       "    </tr>\n",
       "    <tr>\n",
       "      <th>42</th>\n",
       "      <td>This formalism is both elementary and powerful...</td>\n",
       "      <td>[[formalism, Used_for, grammar formalisms], [r...</td>\n",
       "      <td>10</td>\n",
       "    </tr>\n",
       "    <tr>\n",
       "      <th>65</th>\n",
       "      <td>Our system incorporates a linguistic parser/ge...</td>\n",
       "      <td>[[linguistic parser/generator, Part_of, system...</td>\n",
       "      <td>9</td>\n",
       "    </tr>\n",
       "    <tr>\n",
       "      <th>143</th>\n",
       "      <td>In particular there are three areas of novelty...</td>\n",
       "      <td>[[photometric model, Used_for, image formation...</td>\n",
       "      <td>9</td>\n",
       "    </tr>\n",
       "    <tr>\n",
       "      <th>28</th>\n",
       "      <td>The proposed detectors are able to capture lar...</td>\n",
       "      <td>[[detectors, Used_for, large-scale structures]...</td>\n",
       "      <td>8</td>\n",
       "    </tr>\n",
       "  </tbody>\n",
       "</table>\n",
       "</div>"
      ],
      "text/plain": [
       "                                                  text  \\\n",
       "240  This paper investigates the utility of applyin...   \n",
       "42   This formalism is both elementary and powerful...   \n",
       "65   Our system incorporates a linguistic parser/ge...   \n",
       "143  In particular there are three areas of novelty...   \n",
       "28   The proposed detectors are able to capture lar...   \n",
       "\n",
       "                                           triple_list  num_ents  \n",
       "240  [[MT evaluation methods, Used_for, classifiers...        11  \n",
       "42   [[formalism, Used_for, grammar formalisms], [r...        10  \n",
       "65   [[linguistic parser/generator, Part_of, system...         9  \n",
       "143  [[photometric model, Used_for, image formation...         9  \n",
       "28   [[detectors, Used_for, large-scale structures]...         8  "
      ]
     },
     "execution_count": 29,
     "metadata": {},
     "output_type": "execute_result"
    }
   ],
   "source": [
    "import pandas as pd\n",
    "\n",
    "def func(x):\n",
    "    print('-------')\n",
    "    print(x)\n",
    "    print('-------')\n",
    "    return x\n",
    "\n",
    "df = pd.read_json('./data/codekgc-data/scierc/test_triples.json')\n",
    "num_ents = df['triple_list'].apply(lambda x: len(x))\n",
    "df['num_ents'] = num_ents\n",
    "df = df.sort_values(by='num_ents', ascending = False)\n",
    "display(df[:5])"
   ]
  },
  {
   "cell_type": "code",
   "execution_count": 36,
   "metadata": {},
   "outputs": [
    {
     "name": "stdout",
     "output_type": "stream",
     "text": [
      "This paper investigates the utility of applying standard MT evaluation methods ( BLEU , NIST , WER and PER ) to building classifiers to predict semantic equivalence and entailment .\n"
     ]
    },
    {
     "data": {
      "text/plain": [
       "[['MT evaluation methods', 'Used_for', 'classifiers'],\n",
       " ['BLEU', 'Hyponym_of', 'MT evaluation methods'],\n",
       " ['BLEU', 'Conjunction', 'NIST'],\n",
       " ['NIST', 'Hyponym_of', 'MT evaluation methods'],\n",
       " ['NIST', 'Conjunction', 'WER'],\n",
       " ['WER', 'Hyponym_of', 'MT evaluation methods'],\n",
       " ['WER', 'Conjunction', 'PER'],\n",
       " ['PER', 'Hyponym_of', 'MT evaluation methods'],\n",
       " ['classifiers', 'Used_for', 'semantic equivalence'],\n",
       " ['classifiers', 'Used_for', 'entailment'],\n",
       " ['semantic equivalence', 'Conjunction', 'entailment']]"
      ]
     },
     "execution_count": 36,
     "metadata": {},
     "output_type": "execute_result"
    }
   ],
   "source": [
    "print(df.iloc[0].text)\n",
    "df.iloc[0].triple_list"
   ]
  }
 ],
 "metadata": {
  "kernelspec": {
   "display_name": "venv-llmkgc",
   "language": "python",
   "name": "python3"
  },
  "language_info": {
   "codemirror_mode": {
    "name": "ipython",
    "version": 3
   },
   "file_extension": ".py",
   "mimetype": "text/x-python",
   "name": "python",
   "nbconvert_exporter": "python",
   "pygments_lexer": "ipython3",
   "version": "3.11.4"
  }
 },
 "nbformat": 4,
 "nbformat_minor": 2
}
