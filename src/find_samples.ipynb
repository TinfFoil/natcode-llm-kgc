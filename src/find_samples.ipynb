{
 "cells": [
  {
   "cell_type": "code",
   "execution_count": 14,
   "metadata": {},
   "outputs": [
    {
     "data": {
      "text/html": [
       "<div>\n",
       "<style scoped>\n",
       "    .dataframe tbody tr th:only-of-type {\n",
       "        vertical-align: middle;\n",
       "    }\n",
       "\n",
       "    .dataframe tbody tr th {\n",
       "        vertical-align: top;\n",
       "    }\n",
       "\n",
       "    .dataframe thead th {\n",
       "        text-align: right;\n",
       "    }\n",
       "</style>\n",
       "<table border=\"1\" class=\"dataframe\">\n",
       "  <thead>\n",
       "    <tr style=\"text-align: right;\">\n",
       "      <th></th>\n",
       "      <th>text</th>\n",
       "      <th>triple_list</th>\n",
       "      <th>num_ents</th>\n",
       "    </tr>\n",
       "  </thead>\n",
       "  <tbody>\n",
       "    <tr>\n",
       "      <th>142</th>\n",
       "      <td>( Text ) The situation remains explosive in Na...</td>\n",
       "      <td>[[Nampula Province, Located_in, Namialo], [Nor...</td>\n",
       "      <td>11</td>\n",
       "    </tr>\n",
       "    <tr>\n",
       "      <th>165</th>\n",
       "      <td>( Text ) Sao Paulo -- The Sao Paulo State Atto...</td>\n",
       "      <td>[[Institute for Nuclear and Energy Research, O...</td>\n",
       "      <td>9</td>\n",
       "    </tr>\n",
       "    <tr>\n",
       "      <th>121</th>\n",
       "      <td>Working with U.S. Mike Norton on the case are ...</td>\n",
       "      <td>[[Mike Norton, Live_in, U.S.], [Ken Fimberg, L...</td>\n",
       "      <td>7</td>\n",
       "    </tr>\n",
       "    <tr>\n",
       "      <th>144</th>\n",
       "      <td>At the proposal of the Serb Radical Party ( SR...</td>\n",
       "      <td>[[Branko Vojnic, Live_in, Beli Manastir], [Mar...</td>\n",
       "      <td>7</td>\n",
       "    </tr>\n",
       "    <tr>\n",
       "      <th>104</th>\n",
       "      <td>Iowa Republican Terry Branstad was installed a...</td>\n",
       "      <td>[[Terry Branstad, Live_in, Iowa], [Terry Brans...</td>\n",
       "      <td>6</td>\n",
       "    </tr>\n",
       "  </tbody>\n",
       "</table>\n",
       "</div>"
      ],
      "text/plain": [
       "                                                  text  \\\n",
       "142  ( Text ) The situation remains explosive in Na...   \n",
       "165  ( Text ) Sao Paulo -- The Sao Paulo State Atto...   \n",
       "121  Working with U.S. Mike Norton on the case are ...   \n",
       "144  At the proposal of the Serb Radical Party ( SR...   \n",
       "104  Iowa Republican Terry Branstad was installed a...   \n",
       "\n",
       "                                           triple_list  num_ents  \n",
       "142  [[Nampula Province, Located_in, Namialo], [Nor...        11  \n",
       "165  [[Institute for Nuclear and Energy Research, O...         9  \n",
       "121  [[Mike Norton, Live_in, U.S.], [Ken Fimberg, L...         7  \n",
       "144  [[Branko Vojnic, Live_in, Beli Manastir], [Mar...         7  \n",
       "104  [[Terry Branstad, Live_in, Iowa], [Terry Brans...         6  "
      ]
     },
     "metadata": {},
     "output_type": "display_data"
    }
   ],
   "source": [
    "import pandas as pd\n",
    "\n",
    "def func(x):\n",
    "    print('-------')\n",
    "    print(x)\n",
    "    print('-------')\n",
    "    return x\n",
    "\n",
    "df = pd.read_json('/home/pgajo/projects/def-hsajjad/pgajo/natcode-llm-kgc/data/parsing/conll04/test_triples.json')\n",
    "num_ents = df['triple_list'].apply(lambda x: len(x))\n",
    "df['num_ents'] = num_ents\n",
    "df = df.sort_values(by='num_ents', ascending = 0)\n",
    "display(df[:5])"
   ]
  },
  {
   "cell_type": "code",
   "execution_count": 87,
   "metadata": {},
   "outputs": [
    {
     "name": "stdout",
     "output_type": "stream",
     "text": [
      "Lawrence Kane Jr. of Cincinnati , Ohio 's special prosecutor in the Home State case , declined comment on any settlement possibilities.\n"
     ]
    },
    {
     "data": {
      "text/plain": [
       "[['Lawrence Kane Jr.', 'Live_in', 'Cincinnati'],\n",
       " ['Lawrence Kane Jr.', 'Live_in', 'Ohio'],\n",
       " ['Cincinnati', 'Located_in', 'Ohio']]"
      ]
     },
     "execution_count": 87,
     "metadata": {},
     "output_type": "execute_result"
    }
   ],
   "source": [
    "k = 16\n",
    "print(df.iloc[k].text)\n",
    "df.iloc[k].triple_list"
   ]
  },
  {
   "cell_type": "code",
   "execution_count": null,
   "metadata": {},
   "outputs": [],
   "source": []
  }
 ],
 "metadata": {
  "kernelspec": {
   "display_name": ".env",
   "language": "python",
   "name": "python3"
  },
  "language_info": {
   "codemirror_mode": {
    "name": "ipython",
    "version": 3
   },
   "file_extension": ".py",
   "mimetype": "text/x-python",
   "name": "python",
   "nbconvert_exporter": "python",
   "pygments_lexer": "ipython3",
   "version": "3.11.4"
  }
 },
 "nbformat": 4,
 "nbformat_minor": 2
}
